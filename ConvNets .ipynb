{
 "cells": [
  {
   "cell_type": "markdown",
   "metadata": {},
   "source": [
    "# Convolutional Neural Networks\n",
    "\n",
    "##### This is a part of TensorFlow Specialization on Coursera\n",
    "\n",
    "Here, we are exploring Filters(tensorflow.keras.layers.Conv2D) & Pooling(tensorflow.keras.layers.MaxPooling2D)"
   ]
  },
  {
   "cell_type": "code",
   "execution_count": 14,
   "metadata": {},
   "outputs": [],
   "source": [
    "import numpy as np\n",
    "from matplotlib import pyplot as plT"
   ]
  },
  {
   "cell_type": "code",
   "execution_count": 20,
   "metadata": {},
   "outputs": [
    {
     "data": {
      "text/plain": [
       "<matplotlib.image.AxesImage at 0x6f27088>"
      ]
     },
     "execution_count": 20,
     "metadata": {},
     "output_type": "execute_result"
    },
    {
     "data": {
      "image/png": "[encoded data removed]",
      "text/plain": [
       "<Figure size 432x288 with 1 Axes>"
      ]
     },
     "metadata": {
      "needs_background": "light"
     },
     "output_type": "display_data"
    }
   ],
   "source": [
    "arr = [0, -30, -30, 0]\n",
    "im = np.array([[0, 0, 0, 0], [30, 10, -10, -30], [30, 10, -10, -30], [0, 0, 0, 0]])\n",
    "plt.gray()\n",
    "plt.imshow(im)"
   ]
  },
  {
   "cell_type": "code",
   "execution_count": 19,
   "metadata": {},
   "outputs": [
    {
     "data": {
      "text/plain": [
       "<matplotlib.image.AxesImage at 0x3c2afa0>"
      ]
     },
     "execution_count": 19,
     "metadata": {},
     "output_type": "execute_result"
    },
    {
     "data": {
      "image/png": "[encoded data removed]",
      "text/plain": [
       "<Figure size 432x288 with 1 Axes>"
      ]
     },
     "metadata": {
      "needs_background": "light"
     },
     "output_type": "display_data"
    }
   ],
   "source": [
    "arr2 = [0, 0, 0, 10, 10, 10]\n",
    "arr4 = [10, 10, 10,0, 0, 0]\n",
    "im2 = np.array([arr2, arr2, arr2, arr4, arr4, arr4])\n",
    "plt.imshow(im2)"
   ]
  },
  {
   "cell_type": "code",
   "execution_count": 18,
   "metadata": {
    "scrolled": true
   },
   "outputs": [
    {
     "data": {
      "text/plain": [
       "<matplotlib.image.AxesImage at 0x3bf9d48>"
      ]
     },
     "execution_count": 18,
     "metadata": {},
     "output_type": "execute_result"
    },
    {
     "data": {
      "image/png": "[encoded data removed]",
      "text/plain": [
       "<Figure size 432x288 with 1 Axes>"
      ]
     },
     "metadata": {
      "needs_background": "light"
     },
     "output_type": "display_data"
    }
   ],
   "source": [
    "arr3 = [1, 0, -1]\n",
    "im3 = np.array([arr3, arr3, arr3])\n",
    "plt.imshow(im3)"
   ]
  },
  {
   "cell_type": "markdown",
   "metadata": {},
   "source": []
  },
  {
   "cell_type": "markdown",
   "metadata": {},
   "source": [
    "# TensorFlow code using Filters & Pooling\n",
    "\n",
    "##### With on filter layer & one pool layer"
   ]
  },
  {
   "cell_type": "code",
   "execution_count": null,
   "metadata": {},
   "outputs": [],
   "source": [
    "import tensorflow as tf\n",
    "print(tf.__version__)\n",
    "callbacks = MyCallBack()\n",
    "mnist = tf.keras.datasets.mnist\n",
    "(training_images, training_labels), (test_images, test_labels) = mnist.load_data()\n",
    "training_images=training_images.reshape(60000, 28, 28, 1)\n",
    "training_images=training_images / 255.0\n",
    "test_images = test_images.reshape(10000, 28, 28, 1)\n",
    "test_images=test_images/255.0\n",
    "model = tf.keras.models.Sequential([\n",
    "  tf.keras.layers.Conv2D(32, (3,3), activation='relu', input_shape=(28, 28, 1)),\n",
    "  tf.keras.layers.MaxPooling2D(2, 2),\n",
    "  tf.keras.layers.Flatten(),\n",
    "  tf.keras.layers.Dense(128, activation='relu'),\n",
    "  tf.keras.layers.Dense(10, activation='softmax')\n",
    "])\n",
    "model.compile(optimizer='adam', loss='sparse_categorical_crossentropy', metrics=['accuracy'])\n",
    "model.fit(training_images, training_labels, epochs=10)\n",
    "test_loss, test_acc = model.evaluate(test_images, test_labels)\n",
    "print(\"Test accuracy :\", test_acc)\n",
    "\n",
    "\n",
    "\n",
    "# 2.2.0\n",
    "# Epoch 1/10\n",
    "# 1875/1875 [==============================] - 36s 19ms/step - loss: 0.1521 - accuracy: 0.9542\n",
    "# Epoch 2/10\n",
    "# 1875/1875 [==============================] - 38s 20ms/step - loss: 0.0541 - accuracy: 0.9837\n",
    "# Epoch 3/10\n",
    "# 1875/1875 [==============================] - 35s 18ms/step - loss: 0.0341 - accuracy: 0.9892\n",
    "# Epoch 4/10\n",
    "# 1875/1875 [==============================] - 34s 18ms/step - loss: 0.0216 - accuracy: 0.9929\n",
    "# Epoch 5/10\n",
    "# 1875/1875 [==============================] - 34s 18ms/step - loss: 0.0146 - accuracy: 0.9953\n",
    "# Epoch 6/10\n",
    "# 1875/1875 [==============================] - 34s 18ms/step - loss: 0.0111 - accuracy: 0.9964\n",
    "# Epoch 7/10\n",
    "# 1875/1875 [==============================] - 34s 18ms/step - loss: 0.0090 - accuracy: 0.9971\n",
    "# Epoch 8/10\n",
    "# 1875/1875 [==============================] - 34s 18ms/step - loss: 0.0066 - accuracy: 0.9979\n",
    "# Epoch 9/10\n",
    "# 1875/1875 [==============================] - 34s 18ms/step - loss: 0.0059 - accuracy: 0.9980\n",
    "# Epoch 10/10\n",
    "# 1875/1875 [==============================] - 35s 19ms/step - loss: 0.0033 - accuracy: 0.9992\n",
    "# 313/313 [==============================] - 2s 7ms/step - loss: 0.0532 - accuracy: 0.9881\n",
    "# Test accuracy : 0.988099992275238\n",
    "\n",
    "\n",
    "\n",
    "model.summary()\n",
    "\n",
    "# Model: \"sequential_8\"\n",
    "# _________________________________________________________________\n",
    "# Layer (type)                 Output Shape              Param #   \n",
    "# =================================================================\n",
    "# conv2d_14 (Conv2D)           (None, 26, 26, 32)        320       \n",
    "# _________________________________________________________________\n",
    "# max_pooling2d_14 (MaxPooling (None, 13, 13, 32)        0         \n",
    "# _________________________________________________________________\n",
    "# flatten_8 (Flatten)          (None, 5408)              0         \n",
    "# _________________________________________________________________\n",
    "# dense_16 (Dense)             (None, 128)               692352    \n",
    "# _________________________________________________________________\n",
    "# dense_17 (Dense)             (None, 10)                1290      \n",
    "# =================================================================\n",
    "# Total params: 693,962\n",
    "# Trainable params: 693,962\n",
    "# Non-trainable params: 0"
   ]
  }
 ],
 "metadata": {
  "kernelspec": {
   "display_name": "Python 3",
   "language": "python",
   "name": "python3"
  },
  "language_info": {
   "codemirror_mode": {
    "name": "ipython",
    "version": 3
   },
   "file_extension": ".py",
   "mimetype": "text/x-python",
   "name": "python",
   "nbconvert_exporter": "python",
   "pygments_lexer": "ipython3",
   "version": "3.8.2"
  }
 },
 "nbformat": 4,
 "nbformat_minor": 4
}
